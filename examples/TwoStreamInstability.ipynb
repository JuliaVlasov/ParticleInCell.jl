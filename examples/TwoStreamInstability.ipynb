{
 "cells": [
  {
   "cell_type": "code",
   "execution_count": 173,
   "metadata": {},
   "outputs": [],
   "source": [
    "using Plots\n",
    "using LinearAlgebra\n",
    "using SparseArrays\n",
    "using Random"
   ]
  },
  {
   "cell_type": "code",
   "execution_count": 174,
   "metadata": {},
   "outputs": [
    {
     "data": {
      "text/plain": [
       "320×320 SparseMatrixCSC{Float64,Int64} with 956 stored entries:\n",
       "  [1  ,   1]  =  -2.0\n",
       "  [2  ,   1]  =  1.0\n",
       "  [1  ,   2]  =  1.0\n",
       "  [2  ,   2]  =  -2.0\n",
       "  [3  ,   2]  =  1.0\n",
       "  [2  ,   3]  =  1.0\n",
       "  [3  ,   3]  =  -2.0\n",
       "  [4  ,   3]  =  1.0\n",
       "  [3  ,   4]  =  1.0\n",
       "  [4  ,   4]  =  -2.0\n",
       "  [5  ,   4]  =  1.0\n",
       "  [4  ,   5]  =  1.0\n",
       "  ⋮\n",
       "  [315, 316]  =  1.0\n",
       "  [316, 316]  =  -2.0\n",
       "  [317, 316]  =  1.0\n",
       "  [316, 317]  =  1.0\n",
       "  [317, 317]  =  -2.0\n",
       "  [318, 317]  =  1.0\n",
       "  [317, 318]  =  1.0\n",
       "  [318, 318]  =  -2.0\n",
       "  [319, 318]  =  1.0\n",
       "  [318, 319]  =  1.0\n",
       "  [319, 319]  =  -2.0\n",
       "  [320, 320]  =  -2.0"
      ]
     },
     "execution_count": 174,
     "metadata": {},
     "output_type": "execute_result"
    }
   ],
   "source": [
    "L  = 20π       # Domain size\n",
    "DT = 0.005     # Time step\n",
    "NT = 10000     # Number of time steps\n",
    "NG = 320       # Number of grid cells\n",
    "N  = NG * 20   # Number of particles\n",
    "WP = 1.        # Plasma frequency\n",
    "QM = -1.       # Charge/mass ratio\n",
    "V0 = 0.9       # Stream velocity\n",
    "VT = 0.0000001 # Thermal speed\n",
    "\n",
    "# perturbation \n",
    "XP1 = 1.0 \n",
    "mode = 1\n",
    "\n",
    "Q = WP^2 / (QM*N/L)  # rho0*L/N: charge carried by a single particle?\n",
    "rho_back = -Q*N/L  # Background charge density?\n",
    "dx = L / NG # Grid step\n",
    "\n",
    "# Auxilliary vectors\n",
    "p = [1:N; 1:N]  # Some indices up to N\n",
    "Poisson = spdiagm(-1 => ones(Float64,NG-2),\n",
    "                   0 => -2*ones(Float64,NG),\n",
    "                   1 => ones(Float64,NG-2))"
   ]
  },
  {
   "cell_type": "code",
   "execution_count": 175,
   "metadata": {},
   "outputs": [
    {
     "data": {
      "text/plain": [
       "0-element view(::Array{Float64,1}, Any[]) with eltype Float64"
      ]
     },
     "execution_count": 175,
     "metadata": {},
     "output_type": "execute_result"
    }
   ],
   "source": [
    "# Cell center coordinates\n",
    "xg = collect(range(0, stop=L-dx, length=NG)) .+ dx/2\n",
    "xp = collect(range(0, stop=L-L/N, length=N))  # Particle positions\n",
    "\n",
    "rng = MersenneTwister(1234)\n",
    "\n",
    "vp = VT .* (1 .- VT.^2).^(-0.5) .* randn(rng, Float64, N) # Particle momentum, initially Maxwellian\n",
    "pm = collect(0:N-1)\n",
    "pm = 1 .- 2 * mod.(pm.+1, 2)\n",
    "vp .+= pm * (V0 * (1 - V0^2)^(-0.5)) # Momentum + stream velocity\n",
    "\n",
    "# Add electron perturbation to excite the desired mode\n",
    "xp .+= XP1 * (L/N) * sin.(2 * π * xp / L * mode)\n",
    "xp[map(x -> x <  0, xp)] .+= L\n",
    "xp[map(x -> x >= L, xp)] .-= L"
   ]
  },
  {
   "cell_type": "code",
   "execution_count": 176,
   "metadata": {},
   "outputs": [
    {
     "data": {
      "text/plain": [
       "320×320 SparseMatrixCSC{Float64,Int64} with 956 stored entries:\n",
       "  [1  ,   1]  =  -2.0\n",
       "  [2  ,   1]  =  1.0\n",
       "  [1  ,   2]  =  1.0\n",
       "  [2  ,   2]  =  -2.0\n",
       "  [3  ,   2]  =  1.0\n",
       "  [2  ,   3]  =  1.0\n",
       "  [3  ,   3]  =  -2.0\n",
       "  [4  ,   3]  =  1.0\n",
       "  [3  ,   4]  =  1.0\n",
       "  [4  ,   4]  =  -2.0\n",
       "  [5  ,   4]  =  1.0\n",
       "  [4  ,   5]  =  1.0\n",
       "  ⋮\n",
       "  [315, 316]  =  1.0\n",
       "  [316, 316]  =  -2.0\n",
       "  [317, 316]  =  1.0\n",
       "  [316, 317]  =  1.0\n",
       "  [317, 317]  =  -2.0\n",
       "  [318, 317]  =  1.0\n",
       "  [317, 318]  =  1.0\n",
       "  [318, 318]  =  -2.0\n",
       "  [319, 318]  =  1.0\n",
       "  [318, 319]  =  1.0\n",
       "  [319, 319]  =  -2.0\n",
       "  [320, 320]  =  -2.0"
      ]
     },
     "execution_count": 176,
     "metadata": {},
     "output_type": "execute_result"
    }
   ],
   "source": [
    "Poisson = spdiagm(-1 => ones(Float64,NG-2),\n",
    "                   0 => -2*ones(Float64,NG),\n",
    "                   1 => ones(Float64,NG-2))"
   ]
  },
  {
   "cell_type": "code",
   "execution_count": 180,
   "metadata": {},
   "outputs": [
    {
     "data": {
      "text/plain": [
       "compute_rho (generic function with 1 method)"
      ]
     },
     "execution_count": 180,
     "metadata": {},
     "output_type": "execute_result"
    }
   ],
   "source": [
    "function compute_rho(xp)\n",
    "    # Project particles -> grid\n",
    "    g1 = floor.(Int64,floor.(xp/dx .- 0.5))\n",
    "    g = floor.(Int64,vcat(g1, g1.+1))\n",
    "    fraz1 = 1 .- abs.(xp/dx .- g1 .- 0.5)\n",
    "    fraz = vcat(fraz1, 1 .- fraz1)\n",
    "    g[map( x -> x < 0   , g)] .+= NG\n",
    "    g[map( x -> x > NG-1, g)] .-= NG\n",
    "    g .+= 1\n",
    "    println(minimum(p),\" - \", maximum(p))\n",
    "    println(minimum(g),\" - \", maximum(g))\n",
    "    mat = sparse(p, g, fraz, N, NG)\n",
    "    Q / dx * vec(sum(mat,dims=1)) .+ rho_back\n",
    "end"
   ]
  },
  {
   "cell_type": "code",
   "execution_count": 181,
   "metadata": {},
   "outputs": [
    {
     "data": {
      "text/plain": [
       "solve_poisson (generic function with 1 method)"
      ]
     },
     "execution_count": 181,
     "metadata": {},
     "output_type": "execute_result"
    }
   ],
   "source": [
    "function solve_poisson( rho )\n",
    "    # Compute electric field potential\n",
    "    Φ = zeros(Float64,NG)\n",
    "    rho .*= (-dx^2)\n",
    "    sol = Poisson \\  rho\n",
    "    Φ[1:end-1] .= sol[1:end-1]\n",
    "    Φ[end] = 0.0\n",
    "    # Electric field on the grid\n",
    "    (circshift(Φ, 1) - circshift(Φ, -1)) ./ (2dx)\n",
    "end  "
   ]
  },
  {
   "cell_type": "code",
   "execution_count": 182,
   "metadata": {},
   "outputs": [
    {
     "name": "stdout",
     "output_type": "stream",
     "text": [
      "1 - 6400\n",
      "1 - 320\n",
      "typeof(rho) = Array{Float64,1}\n"
     ]
    },
    {
     "data": {
      "image/svg+xml": [
       "<?xml version=\"1.0\" encoding=\"utf-8\"?>\n",
       "<svg xmlns=\"http://www.w3.org/2000/svg\" xmlns:xlink=\"http://www.w3.org/1999/xlink\" width=\"600\" height=\"400\" viewBox=\"0 0 2400 1600\">\n",
       "<defs>\n",
       "  <clipPath id=\"clip3500\">\n",
       "    <rect x=\"0\" y=\"0\" width=\"2000\" height=\"2000\"/>\n",
       "  </clipPath>\n",
       "</defs>\n",
       "<defs>\n",
       "  <clipPath id=\"clip3501\">\n",
       "    <rect x=\"0\" y=\"0\" width=\"2400\" height=\"1600\"/>\n",
       "  </clipPath>\n",
       "</defs>\n",
       "<polygon clip-path=\"url(#clip3501)\" points=\"\n",
       "0,1600 2400,1600 2400,0 0,0 \n",
       "  \" fill=\"#ffffff\" fill-opacity=\"1\"/>\n",
       "<defs>\n",
       "  <clipPath id=\"clip3502\">\n",
       "    <rect x=\"480\" y=\"0\" width=\"1681\" height=\"1600\"/>\n",
       "  </clipPath>\n",
       "</defs>\n",
       "<polygon clip-path=\"url(#clip3501)\" points=\"\n",
       "243.029,1503.47 2321.26,1503.47 2321.26,47.2441 243.029,47.2441 \n",
       "  \" fill=\"#ffffff\" fill-opacity=\"1\"/>\n",
       "<defs>\n",
       "  <clipPath id=\"clip3503\">\n",
       "    <rect x=\"243\" y=\"47\" width=\"2079\" height=\"1457\"/>\n",
       "  </clipPath>\n",
       "</defs>\n",
       "<polyline clip-path=\"url(#clip3503)\" style=\"stroke:#000000; stroke-width:2; stroke-opacity:0.1; fill:none\" points=\"\n",
       "  298.774,1503.47 298.774,47.2441 \n",
       "  \"/>\n",
       "<polyline clip-path=\"url(#clip3503)\" style=\"stroke:#000000; stroke-width:2; stroke-opacity:0.1; fill:none\" points=\"\n",
       "  611.79,1503.47 611.79,47.2441 \n",
       "  \"/>\n",
       "<polyline clip-path=\"url(#clip3503)\" style=\"stroke:#000000; stroke-width:2; stroke-opacity:0.1; fill:none\" points=\"\n",
       "  924.807,1503.47 924.807,47.2441 \n",
       "  \"/>\n",
       "<polyline clip-path=\"url(#clip3503)\" style=\"stroke:#000000; stroke-width:2; stroke-opacity:0.1; fill:none\" points=\"\n",
       "  1237.82,1503.47 1237.82,47.2441 \n",
       "  \"/>\n",
       "<polyline clip-path=\"url(#clip3503)\" style=\"stroke:#000000; stroke-width:2; stroke-opacity:0.1; fill:none\" points=\"\n",
       "  1550.84,1503.47 1550.84,47.2441 \n",
       "  \"/>\n",
       "<polyline clip-path=\"url(#clip3503)\" style=\"stroke:#000000; stroke-width:2; stroke-opacity:0.1; fill:none\" points=\"\n",
       "  1863.86,1503.47 1863.86,47.2441 \n",
       "  \"/>\n",
       "<polyline clip-path=\"url(#clip3503)\" style=\"stroke:#000000; stroke-width:2; stroke-opacity:0.1; fill:none\" points=\"\n",
       "  2176.87,1503.47 2176.87,47.2441 \n",
       "  \"/>\n",
       "<polyline clip-path=\"url(#clip3503)\" style=\"stroke:#000000; stroke-width:2; stroke-opacity:0.1; fill:none\" points=\"\n",
       "  243.029,1475.11 2321.26,1475.11 \n",
       "  \"/>\n",
       "<polyline clip-path=\"url(#clip3503)\" style=\"stroke:#000000; stroke-width:2; stroke-opacity:0.1; fill:none\" points=\"\n",
       "  243.029,1125.23 2321.26,1125.23 \n",
       "  \"/>\n",
       "<polyline clip-path=\"url(#clip3503)\" style=\"stroke:#000000; stroke-width:2; stroke-opacity:0.1; fill:none\" points=\"\n",
       "  243.029,775.359 2321.26,775.359 \n",
       "  \"/>\n",
       "<polyline clip-path=\"url(#clip3503)\" style=\"stroke:#000000; stroke-width:2; stroke-opacity:0.1; fill:none\" points=\"\n",
       "  243.029,425.486 2321.26,425.486 \n",
       "  \"/>\n",
       "<polyline clip-path=\"url(#clip3503)\" style=\"stroke:#000000; stroke-width:2; stroke-opacity:0.1; fill:none\" points=\"\n",
       "  243.029,75.6122 2321.26,75.6122 \n",
       "  \"/>\n",
       "<polyline clip-path=\"url(#clip3501)\" style=\"stroke:#000000; stroke-width:4; stroke-opacity:1; fill:none\" points=\"\n",
       "  243.029,1503.47 2321.26,1503.47 \n",
       "  \"/>\n",
       "<polyline clip-path=\"url(#clip3501)\" style=\"stroke:#000000; stroke-width:4; stroke-opacity:1; fill:none\" points=\"\n",
       "  243.029,1503.47 243.029,47.2441 \n",
       "  \"/>\n",
       "<polyline clip-path=\"url(#clip3501)\" style=\"stroke:#000000; stroke-width:4; stroke-opacity:1; fill:none\" points=\"\n",
       "  298.774,1503.47 298.774,1481.63 \n",
       "  \"/>\n",
       "<polyline clip-path=\"url(#clip3501)\" style=\"stroke:#000000; stroke-width:4; stroke-opacity:1; fill:none\" points=\"\n",
       "  611.79,1503.47 611.79,1481.63 \n",
       "  \"/>\n",
       "<polyline clip-path=\"url(#clip3501)\" style=\"stroke:#000000; stroke-width:4; stroke-opacity:1; fill:none\" points=\"\n",
       "  924.807,1503.47 924.807,1481.63 \n",
       "  \"/>\n",
       "<polyline clip-path=\"url(#clip3501)\" style=\"stroke:#000000; stroke-width:4; stroke-opacity:1; fill:none\" points=\"\n",
       "  1237.82,1503.47 1237.82,1481.63 \n",
       "  \"/>\n",
       "<polyline clip-path=\"url(#clip3501)\" style=\"stroke:#000000; stroke-width:4; stroke-opacity:1; fill:none\" points=\"\n",
       "  1550.84,1503.47 1550.84,1481.63 \n",
       "  \"/>\n",
       "<polyline clip-path=\"url(#clip3501)\" style=\"stroke:#000000; stroke-width:4; stroke-opacity:1; fill:none\" points=\"\n",
       "  1863.86,1503.47 1863.86,1481.63 \n",
       "  \"/>\n",
       "<polyline clip-path=\"url(#clip3501)\" style=\"stroke:#000000; stroke-width:4; stroke-opacity:1; fill:none\" points=\"\n",
       "  2176.87,1503.47 2176.87,1481.63 \n",
       "  \"/>\n",
       "<polyline clip-path=\"url(#clip3501)\" style=\"stroke:#000000; stroke-width:4; stroke-opacity:1; fill:none\" points=\"\n",
       "  243.029,1475.11 274.202,1475.11 \n",
       "  \"/>\n",
       "<polyline clip-path=\"url(#clip3501)\" style=\"stroke:#000000; stroke-width:4; stroke-opacity:1; fill:none\" points=\"\n",
       "  243.029,1125.23 274.202,1125.23 \n",
       "  \"/>\n",
       "<polyline clip-path=\"url(#clip3501)\" style=\"stroke:#000000; stroke-width:4; stroke-opacity:1; fill:none\" points=\"\n",
       "  243.029,775.359 274.202,775.359 \n",
       "  \"/>\n",
       "<polyline clip-path=\"url(#clip3501)\" style=\"stroke:#000000; stroke-width:4; stroke-opacity:1; fill:none\" points=\"\n",
       "  243.029,425.486 274.202,425.486 \n",
       "  \"/>\n",
       "<polyline clip-path=\"url(#clip3501)\" style=\"stroke:#000000; stroke-width:4; stroke-opacity:1; fill:none\" points=\"\n",
       "  243.029,75.6122 274.202,75.6122 \n",
       "  \"/>\n",
       "<g clip-path=\"url(#clip3501)\">\n",
       "<text style=\"fill:#000000; fill-opacity:1; font-family:Arial,Helvetica Neue,Helvetica,sans-serif; font-size:48px; text-anchor:middle;\" transform=\"rotate(0, 298.774, 1557.47)\" x=\"298.774\" y=\"1557.47\">0</text>\n",
       "</g>\n",
       "<g clip-path=\"url(#clip3501)\">\n",
       "<text style=\"fill:#000000; fill-opacity:1; font-family:Arial,Helvetica Neue,Helvetica,sans-serif; font-size:48px; text-anchor:middle;\" transform=\"rotate(0, 611.79, 1557.47)\" x=\"611.79\" y=\"1557.47\">10</text>\n",
       "</g>\n",
       "<g clip-path=\"url(#clip3501)\">\n",
       "<text style=\"fill:#000000; fill-opacity:1; font-family:Arial,Helvetica Neue,Helvetica,sans-serif; font-size:48px; text-anchor:middle;\" transform=\"rotate(0, 924.807, 1557.47)\" x=\"924.807\" y=\"1557.47\">20</text>\n",
       "</g>\n",
       "<g clip-path=\"url(#clip3501)\">\n",
       "<text style=\"fill:#000000; fill-opacity:1; font-family:Arial,Helvetica Neue,Helvetica,sans-serif; font-size:48px; text-anchor:middle;\" transform=\"rotate(0, 1237.82, 1557.47)\" x=\"1237.82\" y=\"1557.47\">30</text>\n",
       "</g>\n",
       "<g clip-path=\"url(#clip3501)\">\n",
       "<text style=\"fill:#000000; fill-opacity:1; font-family:Arial,Helvetica Neue,Helvetica,sans-serif; font-size:48px; text-anchor:middle;\" transform=\"rotate(0, 1550.84, 1557.47)\" x=\"1550.84\" y=\"1557.47\">40</text>\n",
       "</g>\n",
       "<g clip-path=\"url(#clip3501)\">\n",
       "<text style=\"fill:#000000; fill-opacity:1; font-family:Arial,Helvetica Neue,Helvetica,sans-serif; font-size:48px; text-anchor:middle;\" transform=\"rotate(0, 1863.86, 1557.47)\" x=\"1863.86\" y=\"1557.47\">50</text>\n",
       "</g>\n",
       "<g clip-path=\"url(#clip3501)\">\n",
       "<text style=\"fill:#000000; fill-opacity:1; font-family:Arial,Helvetica Neue,Helvetica,sans-serif; font-size:48px; text-anchor:middle;\" transform=\"rotate(0, 2176.87, 1557.47)\" x=\"2176.87\" y=\"1557.47\">60</text>\n",
       "</g>\n",
       "<g clip-path=\"url(#clip3501)\">\n",
       "<text style=\"fill:#000000; fill-opacity:1; font-family:Arial,Helvetica Neue,Helvetica,sans-serif; font-size:48px; text-anchor:end;\" transform=\"rotate(0, 219.029, 1492.61)\" x=\"219.029\" y=\"1492.61\">-0.010</text>\n",
       "</g>\n",
       "<g clip-path=\"url(#clip3501)\">\n",
       "<text style=\"fill:#000000; fill-opacity:1; font-family:Arial,Helvetica Neue,Helvetica,sans-serif; font-size:48px; text-anchor:end;\" transform=\"rotate(0, 219.029, 1142.73)\" x=\"219.029\" y=\"1142.73\">-0.005</text>\n",
       "</g>\n",
       "<g clip-path=\"url(#clip3501)\">\n",
       "<text style=\"fill:#000000; fill-opacity:1; font-family:Arial,Helvetica Neue,Helvetica,sans-serif; font-size:48px; text-anchor:end;\" transform=\"rotate(0, 219.029, 792.859)\" x=\"219.029\" y=\"792.859\">0.000</text>\n",
       "</g>\n",
       "<g clip-path=\"url(#clip3501)\">\n",
       "<text style=\"fill:#000000; fill-opacity:1; font-family:Arial,Helvetica Neue,Helvetica,sans-serif; font-size:48px; text-anchor:end;\" transform=\"rotate(0, 219.029, 442.986)\" x=\"219.029\" y=\"442.986\">0.005</text>\n",
       "</g>\n",
       "<g clip-path=\"url(#clip3501)\">\n",
       "<text style=\"fill:#000000; fill-opacity:1; font-family:Arial,Helvetica Neue,Helvetica,sans-serif; font-size:48px; text-anchor:end;\" transform=\"rotate(0, 219.029, 93.1122)\" x=\"219.029\" y=\"93.1122\">0.010</text>\n",
       "</g>\n",
       "<polyline clip-path=\"url(#clip3503)\" style=\"stroke:#009af9; stroke-width:4; stroke-opacity:1; fill:none\" points=\"\n",
       "  301.847,768.784 307.993,755.468 314.139,741.99 320.285,728.525 326.431,715.079 332.577,701.656 338.723,688.261 344.869,674.899 351.015,661.577 357.161,648.298 \n",
       "  363.307,635.068 369.453,621.892 375.599,608.776 381.746,595.724 387.892,582.741 394.038,569.832 400.184,557.002 406.33,544.257 412.476,531.601 418.622,519.038 \n",
       "  424.768,506.575 430.914,494.215 437.06,481.963 443.206,469.825 449.352,457.804 455.498,445.906 461.644,434.135 467.79,422.496 473.937,410.992 480.083,399.629 \n",
       "  486.229,388.411 492.375,377.342 498.521,366.426 504.667,355.668 510.813,345.072 516.959,334.641 523.105,324.381 529.251,314.295 535.397,304.386 541.543,294.659 \n",
       "  547.689,285.117 553.835,275.764 559.981,266.604 566.128,257.639 572.274,248.875 578.42,240.313 584.566,231.958 590.712,223.812 596.858,215.879 603.004,208.161 \n",
       "  609.15,200.663 615.296,193.385 621.442,186.332 627.588,179.507 633.734,172.91 639.88,166.547 646.026,160.417 652.172,154.525 658.319,148.873 664.465,143.461 \n",
       "  670.611,138.294 676.757,133.372 682.903,128.697 689.049,124.272 695.195,120.098 701.341,116.176 707.487,112.509 713.633,109.097 719.779,105.942 725.925,103.045 \n",
       "  732.071,100.407 738.217,98.0293 744.363,95.9128 750.51,94.0583 756.656,92.4664 762.802,91.1378 768.948,90.073 775.094,89.2724 781.24,88.7362 787.386,88.4648 \n",
       "  793.532,88.4582 799.678,88.7164 805.824,89.2393 811.97,90.0267 818.116,91.0783 824.262,92.3937 830.408,93.9725 836.554,95.8139 842.701,97.9173 848.847,100.282 \n",
       "  854.993,102.907 861.139,105.791 867.285,108.933 873.431,112.332 879.577,115.987 885.723,119.896 891.869,124.057 898.015,128.47 904.161,133.132 910.307,138.042 \n",
       "  916.453,143.197 922.599,148.596 928.745,154.237 934.892,160.117 941.038,166.234 947.184,172.587 953.33,179.171 959.476,185.986 965.622,193.027 971.768,200.293 \n",
       "  977.914,207.781 984.06,215.488 990.206,223.41 996.352,231.546 1002.5,239.891 1008.64,248.442 1014.79,257.196 1020.94,266.151 1027.08,275.301 1033.23,284.645 \n",
       "  1039.37,294.177 1045.52,303.895 1051.67,313.795 1057.81,323.873 1063.96,334.124 1070.11,344.546 1076.25,355.134 1082.4,365.884 1088.54,376.792 1094.69,387.854 \n",
       "  1100.84,399.064 1106.98,410.42 1113.13,421.917 1119.27,433.55 1125.42,445.315 1131.57,457.207 1137.71,469.221 1143.86,481.354 1150,493.6 1156.15,505.954 \n",
       "  1162.3,518.413 1168.44,530.97 1174.59,543.622 1180.73,556.363 1186.88,569.188 1193.03,582.093 1199.17,595.073 1205.32,608.122 1211.46,621.235 1217.61,634.408 \n",
       "  1223.76,647.635 1229.9,660.912 1236.05,674.232 1242.19,687.592 1248.34,700.985 1254.49,714.407 1260.63,727.853 1266.78,741.317 1272.93,754.793 1279.07,768.447 \n",
       "  1285.22,782.272 1291.36,795.925 1297.51,809.402 1303.66,822.866 1309.8,836.312 1315.95,849.734 1322.09,863.127 1328.24,876.487 1334.39,889.807 1340.53,903.084 \n",
       "  1346.68,916.311 1352.82,929.484 1358.97,942.597 1365.12,955.646 1371.26,968.626 1377.41,981.53 1383.55,994.356 1389.7,1007.1 1395.85,1019.75 1401.99,1032.31 \n",
       "  1408.14,1044.76 1414.28,1057.12 1420.43,1069.37 1426.58,1081.5 1432.72,1093.51 1438.87,1105.4 1445.02,1117.17 1451.16,1128.8 1457.31,1140.3 1463.45,1151.65 \n",
       "  1469.6,1162.87 1475.75,1173.93 1481.89,1184.83 1488.04,1195.58 1494.18,1206.17 1500.33,1216.59 1506.48,1226.85 1512.62,1236.92 1518.77,1246.82 1524.91,1256.54 \n",
       "  1531.06,1266.07 1537.21,1275.42 1543.35,1284.57 1549.5,1293.52 1555.64,1302.28 1561.79,1310.83 1567.94,1319.17 1574.08,1327.31 1580.23,1335.23 1586.37,1342.94 \n",
       "  1592.52,1350.43 1598.67,1357.69 1604.81,1364.73 1610.96,1371.55 1617.1,1378.13 1623.25,1384.48 1629.4,1390.6 1635.54,1396.48 1641.69,1402.12 1647.84,1407.52 \n",
       "  1653.98,1412.68 1660.13,1417.59 1666.27,1422.25 1672.42,1426.66 1678.57,1430.82 1684.71,1434.73 1690.86,1438.39 1697,1441.79 1703.15,1444.93 1709.3,1447.81 \n",
       "  1715.44,1450.44 1721.59,1452.8 1727.73,1454.9 1733.88,1456.75 1740.03,1458.33 1746.17,1459.64 1752.32,1460.69 1758.46,1461.48 1764.61,1462 1770.76,1462.26 \n",
       "  1776.9,1462.25 1783.05,1461.98 1789.19,1461.45 1795.34,1460.65 1801.49,1459.58 1807.63,1458.25 1813.78,1456.66 1819.93,1454.81 1826.07,1452.69 1832.22,1450.31 \n",
       "  1838.36,1447.67 1844.51,1444.78 1850.66,1441.62 1856.8,1438.21 1862.95,1434.54 1869.09,1430.62 1875.24,1426.45 1881.39,1422.02 1887.53,1417.35 1893.68,1412.43 \n",
       "  1899.82,1407.26 1905.97,1401.85 1912.12,1396.19 1918.26,1390.3 1924.41,1384.17 1930.55,1377.81 1936.7,1371.21 1942.85,1364.39 1948.99,1357.33 1955.14,1350.06 \n",
       "  1961.28,1342.56 1967.43,1334.84 1973.58,1326.91 1979.72,1318.76 1985.87,1310.41 1992.02,1301.84 1998.16,1293.08 2004.31,1284.12 2010.45,1274.96 2016.6,1265.6 \n",
       "  2022.75,1256.06 2028.89,1246.33 2035.04,1236.42 2041.18,1226.34 2047.33,1216.08 2053.48,1205.65 2059.62,1195.05 2065.77,1184.29 2071.91,1173.38 2078.06,1162.31 \n",
       "  2084.21,1151.09 2090.35,1139.73 2096.5,1128.22 2102.64,1116.58 2108.79,1104.81 2114.94,1092.91 2121.08,1080.89 2127.23,1068.76 2133.37,1056.5 2139.52,1044.14 \n",
       "  2145.67,1031.68 2151.81,1019.12 2157.96,1006.46 2164.1,993.717 2170.25,980.887 2176.4,967.978 2182.54,954.995 2188.69,941.943 2194.84,928.826 2200.98,915.651 \n",
       "  2207.13,902.421 2213.27,889.142 2219.42,875.82 2225.57,862.458 2231.71,849.063 2237.86,835.64 2244,822.193 2250.15,808.729 2256.3,795.251 2262.44,781.935 \n",
       "  \n",
       "  \"/>\n",
       "<polygon clip-path=\"url(#clip3501)\" points=\"\n",
       "1958.43,251.724 2249.26,251.724 2249.26,130.764 1958.43,130.764 \n",
       "  \" fill=\"#ffffff\" fill-opacity=\"1\"/>\n",
       "<polyline clip-path=\"url(#clip3501)\" style=\"stroke:#000000; stroke-width:4; stroke-opacity:1; fill:none\" points=\"\n",
       "  1958.43,251.724 2249.26,251.724 2249.26,130.764 1958.43,130.764 1958.43,251.724 \n",
       "  \"/>\n",
       "<polyline clip-path=\"url(#clip3501)\" style=\"stroke:#009af9; stroke-width:4; stroke-opacity:1; fill:none\" points=\"\n",
       "  1982.43,191.244 2126.43,191.244 \n",
       "  \"/>\n",
       "<g clip-path=\"url(#clip3501)\">\n",
       "<text style=\"fill:#000000; fill-opacity:1; font-family:Arial,Helvetica Neue,Helvetica,sans-serif; font-size:48px; text-anchor:start;\" transform=\"rotate(0, 2150.43, 208.744)\" x=\"2150.43\" y=\"208.744\">y1</text>\n",
       "</g>\n",
       "</svg>\n"
      ]
     },
     "execution_count": 182,
     "metadata": {},
     "output_type": "execute_result"
    }
   ],
   "source": [
    "rho = compute_rho(xp)  \n",
    "@show typeof(rho)\n",
    "Eg = solve_poisson(rho)\n",
    "plot(xg, Eg)"
   ]
  },
  {
   "cell_type": "markdown",
   "metadata": {},
   "source": [
    "![](Eg.png)"
   ]
  }
 ],
 "metadata": {
  "kernelspec": {
   "display_name": "Julia 1.0.1",
   "language": "julia",
   "name": "julia-1.0"
  },
  "language_info": {
   "file_extension": ".jl",
   "mimetype": "application/julia",
   "name": "julia",
   "version": "1.0.1"
  }
 },
 "nbformat": 4,
 "nbformat_minor": 2
}
